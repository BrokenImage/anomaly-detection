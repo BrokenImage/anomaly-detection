{
 "cells": [
  {
   "cell_type": "code",
   "execution_count": 1,
   "metadata": {},
   "outputs": [],
   "source": [
    "import numpy as np\n",
    "import keras as k\n",
    "import json\n",
    "from sklearn.preprocessing import LabelEncoder\n",
    "from sklearn.preprocessing import OneHotEncoder\n",
    "from sklearn.model_selection import train_test_split"
   ]
  },
  {
   "cell_type": "code",
   "execution_count": 2,
   "metadata": {},
   "outputs": [],
   "source": [
    "\"\"\"\n",
    "This function reads all of the files and lables from the json file then opens those files and converts the\n",
    "images to np arrays to be fed into the nn.\n",
    "NOTE: this is not a good thing to do if your dataset is too big, this may crash your computer\n",
    "\"\"\"\n",
    "def imagegen():\n",
    "    f = open('InfraredSolarModules/module_metadata.json',) \n",
    "    data = json.load(f) \n",
    "    f.close() \n",
    "    img = []\n",
    "    cat = []\n",
    "    for i in range(20000):\n",
    "        img.append(np.array(k.preprocessing.image.load_img('InfraredSolarModules/' + data[str(i)]['image_filepath'], color_mode = \"grayscale\")))\n",
    "        cat.append(data[str(i)]['anomaly_class'])\n",
    "    return np.array(img), np.array(cat)"
   ]
  },
  {
   "cell_type": "code",
   "execution_count": 3,
   "metadata": {},
   "outputs": [],
   "source": [
    "img, labels = imagegen() # load the data and labels\n",
    "img = img.reshape(20000, 40, 24, 1) # reshape to show color channels\n",
    "img = img / 255 # scale data"
   ]
  },
  {
   "cell_type": "code",
   "execution_count": 4,
   "metadata": {},
   "outputs": [],
   "source": [
    "X_train, X_test, y_train, y_test = train_test_split(img, labels, test_size=0.3)\n",
    "labelencoder = LabelEncoder() # Make a label encoder \n",
    "y_train = labelencoder.fit_transform(y_train) # encode labels to numbers\n",
    "y_test = labelencoder.transform(y_test)\n",
    "y_train = k.utils.to_categorical(y_train) # encode nubers to catagorical labels\n",
    "y_test = k.utils.to_categorical(y_test)"
   ]
  },
  {
   "cell_type": "code",
   "execution_count": 5,
   "metadata": {},
   "outputs": [
    {
     "data": {
      "text/plain": [
       "(14000, 40, 24, 1)"
      ]
     },
     "execution_count": 5,
     "metadata": {},
     "output_type": "execute_result"
    }
   ],
   "source": [
    "X_train.shape"
   ]
  },
  {
   "cell_type": "code",
   "execution_count": 6,
   "metadata": {},
   "outputs": [
    {
     "data": {
      "text/plain": [
       "(14000, 12)"
      ]
     },
     "execution_count": 6,
     "metadata": {},
     "output_type": "execute_result"
    }
   ],
   "source": [
    "y_train.shape"
   ]
  },
  {
   "cell_type": "code",
   "execution_count": 7,
   "metadata": {},
   "outputs": [],
   "source": [
    "# TODO: Upsample anomalies that don't happen often\n",
    "counts = {}\n",
    "for i in y_train:\n",
    "    try:\n",
    "        counts[str(i)] += 1\n",
    "    except:\n",
    "        counts[str(i)] = 0"
   ]
  },
  {
   "cell_type": "code",
   "execution_count": 8,
   "metadata": {},
   "outputs": [
    {
     "data": {
      "text/plain": [
       "{'[0. 0. 0. 0. 0. 0. 0. 1. 0. 0. 0. 0.]': 6985,\n",
       " '[0. 0. 0. 0. 0. 0. 0. 0. 0. 0. 0. 1.]': 1166,\n",
       " '[0. 0. 0. 0. 0. 1. 0. 0. 0. 0. 0. 0.]': 171,\n",
       " '[1. 0. 0. 0. 0. 0. 0. 0. 0. 0. 0. 0.]': 1333,\n",
       " '[0. 0. 0. 1. 0. 0. 0. 0. 0. 0. 0. 0.]': 1066,\n",
       " '[0. 1. 0. 0. 0. 0. 0. 0. 0. 0. 0. 0.]': 889,\n",
       " '[0. 0. 0. 0. 0. 0. 0. 0. 1. 0. 0. 0.]': 544,\n",
       " '[0. 0. 1. 0. 0. 0. 0. 0. 0. 0. 0. 0.]': 645,\n",
       " '[0. 0. 0. 0. 0. 0. 0. 0. 0. 1. 0. 0.]': 751,\n",
       " '[0. 0. 0. 0. 0. 0. 1. 0. 0. 0. 0. 0.]': 173,\n",
       " '[0. 0. 0. 0. 0. 0. 0. 0. 0. 0. 1. 0.]': 146,\n",
       " '[0. 0. 0. 0. 1. 0. 0. 0. 0. 0. 0. 0.]': 119}"
      ]
     },
     "execution_count": 8,
     "metadata": {},
     "output_type": "execute_result"
    }
   ],
   "source": [
    "counts"
   ]
  },
  {
   "cell_type": "code",
   "execution_count": 9,
   "metadata": {},
   "outputs": [],
   "source": [
    "for i in range(len(y_train)):\n",
    "    if counts[str(y_train[i])] < 1000:\n",
    "        new_X_train = np.array([np.fliplr(X_train[i]), np.flipud(X_train[i]), np.flipud(np.fliplr(X_train[i]))])\n",
    "        new_y_train = np.array([y_train[i], y_train[i], y_train[i]])\n",
    "        X_train = np.concatenate((X_train, new_X_train), axis=0)\n",
    "        y_train = np.concatenate((y_train, new_y_train), axis=0)"
   ]
  },
  {
   "cell_type": "code",
   "execution_count": 10,
   "metadata": {},
   "outputs": [
    {
     "data": {
      "text/plain": [
       "(24338, 40, 24, 1)"
      ]
     },
     "execution_count": 10,
     "metadata": {},
     "output_type": "execute_result"
    }
   ],
   "source": [
    "X_train.shape"
   ]
  },
  {
   "cell_type": "code",
   "execution_count": 11,
   "metadata": {},
   "outputs": [
    {
     "data": {
      "text/plain": [
       "(24338, 12)"
      ]
     },
     "execution_count": 11,
     "metadata": {},
     "output_type": "execute_result"
    }
   ],
   "source": [
    "y_train.shape"
   ]
  },
  {
   "cell_type": "code",
   "execution_count": 12,
   "metadata": {},
   "outputs": [
    {
     "name": "stdout",
     "output_type": "stream",
     "text": [
      "Model: \"sequential\"\n",
      "_________________________________________________________________\n",
      "Layer (type)                 Output Shape              Param #   \n",
      "=================================================================\n",
      "conv2d (Conv2D)              (None, 38, 22, 10)        100       \n",
      "_________________________________________________________________\n",
      "max_pooling2d (MaxPooling2D) (None, 19, 11, 10)        0         \n",
      "_________________________________________________________________\n",
      "conv2d_1 (Conv2D)            (None, 17, 9, 10)         910       \n",
      "_________________________________________________________________\n",
      "max_pooling2d_1 (MaxPooling2 (None, 9, 5, 10)          0         \n",
      "_________________________________________________________________\n",
      "flatten (Flatten)            (None, 450)               0         \n",
      "_________________________________________________________________\n",
      "dense (Dense)                (None, 450)               202950    \n",
      "_________________________________________________________________\n",
      "activation (Activation)      (None, 450)               0         \n",
      "_________________________________________________________________\n",
      "dense_1 (Dense)              (None, 12)                5412      \n",
      "_________________________________________________________________\n",
      "activation_1 (Activation)    (None, 12)                0         \n",
      "=================================================================\n",
      "Total params: 209,372\n",
      "Trainable params: 209,372\n",
      "Non-trainable params: 0\n",
      "_________________________________________________________________\n"
     ]
    }
   ],
   "source": [
    "model = k.Sequential()\n",
    "model.add(k.layers.Conv2D(filters=10, kernel_size=(3,3), strides=(1, 1), padding=\"valid\", input_shape=(40, 24, 1)))\n",
    "model.add(k.layers.MaxPooling2D(pool_size=(2, 2), strides=(2,2), padding=\"same\"))\n",
    "model.add(k.layers.Conv2D(filters=10, kernel_size=(3,3), strides=(1, 1), padding=\"valid\"))\n",
    "model.add(k.layers.MaxPooling2D(pool_size=(2, 2), strides=(2,2), padding=\"same\"))\n",
    "model.add(k.layers.Flatten())\n",
    "model.add(k.layers.Dense(450))\n",
    "model.add(k.layers.Activation('sigmoid'))\n",
    "model.add(k.layers.Dense(12))\n",
    "model.add(k.layers.Activation('softmax'))\n",
    "model.compile(optimizer='adam', loss='categorical_crossentropy', metrics=[\"accuracy\"])\n",
    "model.summary()"
   ]
  },
  {
   "cell_type": "code",
   "execution_count": 13,
   "metadata": {},
   "outputs": [
    {
     "name": "stdout",
     "output_type": "stream",
     "text": [
      "Epoch 1/20\n",
      "1217/1217 [==============================] - 7s 6ms/step - loss: 1.9743 - accuracy: 0.3458\n",
      "Epoch 2/20\n",
      "1217/1217 [==============================] - 8s 6ms/step - loss: 1.6007 - accuracy: 0.4804\n",
      "Epoch 3/20\n",
      "1217/1217 [==============================] - 7s 6ms/step - loss: 1.4366 - accuracy: 0.5320\n",
      "Epoch 4/20\n",
      "1217/1217 [==============================] - 7s 6ms/step - loss: 1.3335 - accuracy: 0.5626\n",
      "Epoch 5/20\n",
      "1217/1217 [==============================] - 7s 6ms/step - loss: 1.2442 - accuracy: 0.5890\n",
      "Epoch 6/20\n",
      "1217/1217 [==============================] - 7s 6ms/step - loss: 1.1687 - accuracy: 0.6134\n",
      "Epoch 7/20\n",
      "1217/1217 [==============================] - 7s 6ms/step - loss: 1.0978 - accuracy: 0.6360\n",
      "Epoch 8/20\n",
      "1217/1217 [==============================] - 7s 6ms/step - loss: 1.0310 - accuracy: 0.6588\n",
      "Epoch 9/20\n",
      "1217/1217 [==============================] - 7s 6ms/step - loss: 0.9672 - accuracy: 0.6786\n",
      "Epoch 10/20\n",
      "1217/1217 [==============================] - 7s 6ms/step - loss: 0.9070 - accuracy: 0.6971\n",
      "Epoch 11/20\n",
      "1217/1217 [==============================] - 7s 6ms/step - loss: 0.8564 - accuracy: 0.7149\n",
      "Epoch 12/20\n",
      "1217/1217 [==============================] - 7s 6ms/step - loss: 0.7975 - accuracy: 0.7321\n",
      "Epoch 13/20\n",
      "1217/1217 [==============================] - 7s 6ms/step - loss: 0.7494 - accuracy: 0.7478\n",
      "Epoch 14/20\n",
      "1217/1217 [==============================] - 7s 6ms/step - loss: 0.7039 - accuracy: 0.7631\n",
      "Epoch 15/20\n",
      "1217/1217 [==============================] - 7s 6ms/step - loss: 0.6572 - accuracy: 0.7808\n",
      "Epoch 16/20\n",
      "1217/1217 [==============================] - 7s 6ms/step - loss: 0.6168 - accuracy: 0.7933\n",
      "Epoch 17/20\n",
      "1217/1217 [==============================] - 7s 6ms/step - loss: 0.5739 - accuracy: 0.8069\n",
      "Epoch 18/20\n",
      "1217/1217 [==============================] - 7s 6ms/step - loss: 0.5390 - accuracy: 0.8225\n",
      "Epoch 19/20\n",
      "1217/1217 [==============================] - 7s 6ms/step - loss: 0.5018 - accuracy: 0.8338\n",
      "Epoch 20/20\n",
      "1217/1217 [==============================] - 7s 6ms/step - loss: 0.4682 - accuracy: 0.8458\n"
     ]
    },
    {
     "data": {
      "text/plain": [
       "<tensorflow.python.keras.callbacks.History at 0x148049af0>"
      ]
     },
     "execution_count": 13,
     "metadata": {},
     "output_type": "execute_result"
    }
   ],
   "source": [
    "model.fit(X_train, y_train, epochs=20, batch_size=20, verbose=1, shuffle=True)"
   ]
  },
  {
   "cell_type": "code",
   "execution_count": 14,
   "metadata": {},
   "outputs": [
    {
     "name": "stdout",
     "output_type": "stream",
     "text": [
      "188/188 [==============================] - 0s 1ms/step - loss: 0.9430 - accuracy: 0.7150\n",
      "Prediction loss, accuracy: (0.9429858326911926, 0.7149999737739563)\n"
     ]
    }
   ],
   "source": [
    "loss, acc = model.evaluate(X_test, y_test, verbose=1)\n",
    "print(f\"Prediction loss, accuracy: {loss, acc}\")"
   ]
  },
  {
   "cell_type": "code",
   "execution_count": 15,
   "metadata": {},
   "outputs": [],
   "source": [
    "model.save(\"model.h5\")"
   ]
  },
  {
   "cell_type": "code",
   "execution_count": null,
   "metadata": {},
   "outputs": [],
   "source": [
    "model = load_model('model.h5')"
   ]
  }
 ],
 "metadata": {
  "kernelspec": {
   "display_name": "Python 3",
   "language": "python",
   "name": "python3"
  },
  "language_info": {
   "codemirror_mode": {
    "name": "ipython",
    "version": 3
   },
   "file_extension": ".py",
   "mimetype": "text/x-python",
   "name": "python",
   "nbconvert_exporter": "python",
   "pygments_lexer": "ipython3",
   "version": "3.8.5"
  }
 },
 "nbformat": 4,
 "nbformat_minor": 2
}
