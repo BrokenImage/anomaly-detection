{
 "cells": [
  {
   "cell_type": "code",
   "execution_count": 1,
   "metadata": {},
   "outputs": [],
   "source": [
    "import numpy as np\n",
    "import keras as k\n",
    "import json\n",
    "from sklearn.preprocessing import LabelEncoder\n",
    "from sklearn.preprocessing import OneHotEncoder\n",
    "from sklearn.model_selection import train_test_split"
   ]
  },
  {
   "cell_type": "code",
   "execution_count": 2,
   "metadata": {},
   "outputs": [],
   "source": [
    "\"\"\"\n",
    "This function reads all of the files and lables from the json file then opens those files and converts the\n",
    "images to np arrays to be fed into the nn.\n",
    "NOTE: this is not a good thing to do if your dataset is too big, this may crash your computer\n",
    "\"\"\"\n",
    "def imagegen():\n",
    "    f = open('InfraredSolarModules/module_metadata.json',) \n",
    "    data = json.load(f) \n",
    "    f.close() \n",
    "    img = []\n",
    "    cat = []\n",
    "    for i in range(20000):\n",
    "        img.append(np.array(k.preprocessing.image.load_img('InfraredSolarModules/' + data[str(i)]['image_filepath'], color_mode = \"grayscale\")))\n",
    "        cat.append(data[str(i)]['anomaly_class'])\n",
    "    return np.array(img), np.array(cat)"
   ]
  },
  {
   "cell_type": "code",
   "execution_count": 3,
   "metadata": {},
   "outputs": [],
   "source": [
    "img, labels = imagegen() # load the data and labels\n",
    "img = img.reshape(20000, 40, 24, 1) # reshape to show color channels\n",
    "img = img / 255 # scale data"
   ]
  },
  {
   "cell_type": "code",
   "execution_count": 4,
   "metadata": {},
   "outputs": [],
   "source": [
    "X_train, X_test, y_train, y_test = train_test_split(img, labels, test_size=0.3)\n",
    "labelencoder = LabelEncoder() # Make a label encoder \n",
    "y_train = labelencoder.fit_transform(y_train) # encode labels to numbers\n",
    "y_test = labelencoder.transform(y_test)\n",
    "y_train = k.utils.to_categorical(y_train) # encode nubers to catagorical labels\n",
    "y_test = k.utils.to_categorical(y_test)"
   ]
  },
  {
   "cell_type": "code",
   "execution_count": 5,
   "metadata": {},
   "outputs": [
    {
     "data": {
      "text/plain": [
       "(14000, 40, 24, 1)"
      ]
     },
     "execution_count": 5,
     "metadata": {},
     "output_type": "execute_result"
    }
   ],
   "source": [
    "X_train.shape"
   ]
  },
  {
   "cell_type": "code",
   "execution_count": 6,
   "metadata": {},
   "outputs": [
    {
     "data": {
      "text/plain": [
       "(14000, 12)"
      ]
     },
     "execution_count": 6,
     "metadata": {},
     "output_type": "execute_result"
    }
   ],
   "source": [
    "y_train.shape"
   ]
  },
  {
   "cell_type": "code",
   "execution_count": 7,
   "metadata": {},
   "outputs": [],
   "source": [
    "# TODO: Upsample anomalies that don't happen often\n",
    "counts = {}\n",
    "for i in y_train:\n",
    "    try:\n",
    "        counts[str(i)] += 1\n",
    "    except:\n",
    "        counts[str(i)] = 0"
   ]
  },
  {
   "cell_type": "code",
   "execution_count": 8,
   "metadata": {},
   "outputs": [
    {
     "data": {
      "text/plain": [
       "{'[0. 0. 0. 0. 0. 0. 0. 1. 0. 0. 0. 0.]': 6985,\n",
       " '[0. 0. 0. 0. 0. 0. 0. 0. 0. 0. 0. 1.]': 1166,\n",
       " '[0. 0. 0. 0. 0. 1. 0. 0. 0. 0. 0. 0.]': 171,\n",
       " '[1. 0. 0. 0. 0. 0. 0. 0. 0. 0. 0. 0.]': 1333,\n",
       " '[0. 0. 0. 1. 0. 0. 0. 0. 0. 0. 0. 0.]': 1066,\n",
       " '[0. 1. 0. 0. 0. 0. 0. 0. 0. 0. 0. 0.]': 889,\n",
       " '[0. 0. 0. 0. 0. 0. 0. 0. 1. 0. 0. 0.]': 544,\n",
       " '[0. 0. 1. 0. 0. 0. 0. 0. 0. 0. 0. 0.]': 645,\n",
       " '[0. 0. 0. 0. 0. 0. 0. 0. 0. 1. 0. 0.]': 751,\n",
       " '[0. 0. 0. 0. 0. 0. 1. 0. 0. 0. 0. 0.]': 173,\n",
       " '[0. 0. 0. 0. 0. 0. 0. 0. 0. 0. 1. 0.]': 146,\n",
       " '[0. 0. 0. 0. 1. 0. 0. 0. 0. 0. 0. 0.]': 119}"
      ]
     },
     "execution_count": 8,
     "metadata": {},
     "output_type": "execute_result"
    }
   ],
   "source": [
    "counts"
   ]
  },
  {
   "cell_type": "code",
   "execution_count": 9,
   "metadata": {},
   "outputs": [],
   "source": [
    "for i in range(len(y_train)):\n",
    "    if counts[str(y_train[i])] < 1000:\n",
    "        new_X_train = np.array([np.fliplr(X_train[i]), np.flipud(X_train[i]), np.flipud(np.fliplr(X_train[i]))])\n",
    "        new_y_train = np.array([y_train[i], y_train[i], y_train[i]])\n",
    "        X_train = np.concatenate((X_train, new_X_train), axis=0)\n",
    "        y_train = np.concatenate((y_train, new_y_train), axis=0)"
   ]
  },
  {
   "cell_type": "code",
   "execution_count": 10,
   "metadata": {},
   "outputs": [
    {
     "data": {
      "text/plain": [
       "(24338, 40, 24, 1)"
      ]
     },
     "execution_count": 10,
     "metadata": {},
     "output_type": "execute_result"
    }
   ],
   "source": [
    "X_train.shape"
   ]
  },
  {
   "cell_type": "code",
   "execution_count": 11,
   "metadata": {},
   "outputs": [
    {
     "data": {
      "text/plain": [
       "(24338, 12)"
      ]
     },
     "execution_count": 11,
     "metadata": {},
     "output_type": "execute_result"
    }
   ],
   "source": [
    "y_train.shape"
   ]
  },
  {
   "cell_type": "code",
   "execution_count": 48,
   "metadata": {},
   "outputs": [
    {
     "name": "stdout",
     "output_type": "stream",
     "text": [
      "Model: \"sequential_10\"\n",
      "_________________________________________________________________\n",
      "Layer (type)                 Output Shape              Param #   \n",
      "=================================================================\n",
      "conv2d_23 (Conv2D)           (None, 36, 20, 40)        1040      \n",
      "_________________________________________________________________\n",
      "conv2d_24 (Conv2D)           (None, 34, 18, 40)        14440     \n",
      "_________________________________________________________________\n",
      "max_pooling2d_21 (MaxPooling (None, 17, 9, 40)         0         \n",
      "_________________________________________________________________\n",
      "flatten_9 (Flatten)          (None, 6120)              0         \n",
      "_________________________________________________________________\n",
      "dense_18 (Dense)             (None, 450)               2754450   \n",
      "_________________________________________________________________\n",
      "activation_18 (Activation)   (None, 450)               0         \n",
      "_________________________________________________________________\n",
      "dense_19 (Dense)             (None, 12)                5412      \n",
      "_________________________________________________________________\n",
      "activation_19 (Activation)   (None, 12)                0         \n",
      "=================================================================\n",
      "Total params: 2,775,342\n",
      "Trainable params: 2,775,342\n",
      "Non-trainable params: 0\n",
      "_________________________________________________________________\n"
     ]
    }
   ],
   "source": [
    "model = k.Sequential()\n",
    "model.add(k.layers.Conv2D(filters=40, kernel_size=(5,5), strides=(1, 1), padding=\"valid\", input_shape=(40, 24, 1)))\n",
    "model.add(k.layers.Conv2D(filters=40, kernel_size=(3,3), strides=(1, 1), padding=\"valid\"))\n",
    "model.add(k.layers.MaxPooling2D(pool_size=(2, 2), strides=(2,2), padding=\"same\"))\n",
    "model.add(k.layers.Flatten())\n",
    "model.add(k.layers.Dense(450))\n",
    "model.add(k.layers.Activation('relu'))\n",
    "model.add(k.layers.Dense(12))\n",
    "model.add(k.layers.Activation('softmax'))\n",
    "model.compile(optimizer='adam', loss='categorical_crossentropy', metrics=[\"accuracy\"])\n",
    "model.summary()"
   ]
  },
  {
   "cell_type": "code",
   "execution_count": 49,
   "metadata": {},
   "outputs": [
    {
     "name": "stdout",
     "output_type": "stream",
     "text": [
      "Epoch 1/20\n",
      "1217/1217 [==============================] - 39s 32ms/step - loss: 1.7509 - accuracy: 0.4238\n",
      "Epoch 2/20\n",
      "1217/1217 [==============================] - 40s 33ms/step - loss: 1.3325 - accuracy: 0.5592\n",
      "Epoch 3/20\n",
      "1217/1217 [==============================] - 40s 33ms/step - loss: 1.1609 - accuracy: 0.6147\n",
      "Epoch 4/20\n",
      "1217/1217 [==============================] - 40s 33ms/step - loss: 1.0409 - accuracy: 0.6495\n",
      "Epoch 5/20\n",
      "1217/1217 [==============================] - 40s 33ms/step - loss: 0.9488 - accuracy: 0.6782\n",
      "Epoch 6/20\n",
      "1217/1217 [==============================] - 40s 33ms/step - loss: 0.8707 - accuracy: 0.7041\n",
      "Epoch 7/20\n",
      "1217/1217 [==============================] - 40s 33ms/step - loss: 0.7840 - accuracy: 0.7310\n",
      "Epoch 8/20\n",
      "1217/1217 [==============================] - 40s 33ms/step - loss: 0.7287 - accuracy: 0.7507\n",
      "Epoch 9/20\n",
      "1217/1217 [==============================] - 40s 33ms/step - loss: 0.6749 - accuracy: 0.7717\n",
      "Epoch 10/20\n",
      "1217/1217 [==============================] - 40s 33ms/step - loss: 0.6171 - accuracy: 0.7909\n",
      "Epoch 11/20\n",
      "1217/1217 [==============================] - 40s 33ms/step - loss: 0.5638 - accuracy: 0.8060\n",
      "Epoch 12/20\n",
      "1217/1217 [==============================] - 40s 33ms/step - loss: 0.5473 - accuracy: 0.8151\n",
      "Epoch 13/20\n",
      "1217/1217 [==============================] - 40s 33ms/step - loss: 0.4888 - accuracy: 0.8340\n",
      "Epoch 14/20\n",
      "1217/1217 [==============================] - 40s 33ms/step - loss: 0.4644 - accuracy: 0.8413\n",
      "Epoch 15/20\n",
      "1217/1217 [==============================] - 40s 33ms/step - loss: 0.4315 - accuracy: 0.8543\n",
      "Epoch 16/20\n",
      "1217/1217 [==============================] - 40s 33ms/step - loss: 0.3939 - accuracy: 0.8665\n",
      "Epoch 17/20\n",
      "1217/1217 [==============================] - 40s 33ms/step - loss: 0.3961 - accuracy: 0.8698\n",
      "Epoch 18/20\n",
      "1217/1217 [==============================] - 40s 33ms/step - loss: 0.3596 - accuracy: 0.8816\n",
      "Epoch 19/20\n",
      "1217/1217 [==============================] - 40s 33ms/step - loss: 0.3257 - accuracy: 0.8894\n",
      "Epoch 20/20\n",
      "1217/1217 [==============================] - 41s 33ms/step - loss: 0.3405 - accuracy: 0.8871\n"
     ]
    },
    {
     "data": {
      "text/plain": [
       "<tensorflow.python.keras.callbacks.History at 0x148ef84f0>"
      ]
     },
     "execution_count": 49,
     "metadata": {},
     "output_type": "execute_result"
    }
   ],
   "source": [
    "model.fit(X_train, y_train, epochs=20, batch_size=20, verbose=1, shuffle=True)"
   ]
  },
  {
   "cell_type": "code",
   "execution_count": 50,
   "metadata": {},
   "outputs": [
    {
     "name": "stdout",
     "output_type": "stream",
     "text": [
      "188/188 [==============================] - 1s 7ms/step - loss: 2.1798 - accuracy: 0.6997\n",
      "Prediction loss, accuracy: (2.179806709289551, 0.6996666789054871)\n"
     ]
    }
   ],
   "source": [
    "loss, acc = model.evaluate(X_test, y_test, verbose=1)\n",
    "print(f\"Prediction loss, accuracy: {loss, acc}\")"
   ]
  },
  {
   "cell_type": "code",
   "execution_count": 15,
   "metadata": {},
   "outputs": [],
   "source": [
    "model.save(\"model.h5\")"
   ]
  },
  {
   "cell_type": "code",
   "execution_count": null,
   "metadata": {},
   "outputs": [],
   "source": [
    "model = load_model('model.h5')"
   ]
  }
 ],
 "metadata": {
  "kernelspec": {
   "display_name": "Python 3",
   "language": "python",
   "name": "python3"
  },
  "language_info": {
   "codemirror_mode": {
    "name": "ipython",
    "version": 3
   },
   "file_extension": ".py",
   "mimetype": "text/x-python",
   "name": "python",
   "nbconvert_exporter": "python",
   "pygments_lexer": "ipython3",
   "version": "3.8.5"
  }
 },
 "nbformat": 4,
 "nbformat_minor": 2
}
