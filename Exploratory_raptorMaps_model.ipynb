{
 "cells": [
  {
   "cell_type": "code",
   "execution_count": 1,
   "metadata": {},
   "outputs": [
    {
     "name": "stderr",
     "output_type": "stream",
     "text": [
      "Using TensorFlow backend.\n"
     ]
    }
   ],
   "source": [
    "import numpy as np\n",
    "import keras as k\n",
    "import json\n",
    "from sklearn.preprocessing import LabelEncoder\n",
    "from sklearn.preprocessing import OneHotEncoder\n",
    "from sklearn.model_selection import train_test_split"
   ]
  },
  {
   "cell_type": "code",
   "execution_count": 2,
   "metadata": {},
   "outputs": [],
   "source": [
    "\"\"\"\n",
    "This function reads all of the files and lables from the json file then opens those files and converts the\n",
    "images to np arrays to be fed into the nn.\n",
    "NOTE: this is not a good thing to do if your dataset is too big, this may crash your computer\n",
    "\"\"\"\n",
    "def imagegen():\n",
    "    f = open('InfraredSolarModules/module_metadata.json',) \n",
    "    data = json.load(f) \n",
    "    f.close() \n",
    "    img = []\n",
    "    cat = []\n",
    "    for i in range(20000):\n",
    "        img.append(np.array(k.preprocessing.image.load_img('InfraredSolarModules/' + data[str(i)]['image_filepath'], color_mode = \"grayscale\")))\n",
    "        cat.append(data[str(i)]['anomaly_class'])\n",
    "    return np.array(img), np.array(cat)"
   ]
  },
  {
   "cell_type": "code",
   "execution_count": 3,
   "metadata": {},
   "outputs": [],
   "source": [
    "img, labels = imagegen() # load the data and labels\n",
    "img = img.reshape(20000, 40, 24, 1) # reshape to show color channels\n",
    "img = img / 255 # scale data"
   ]
  },
  {
   "cell_type": "code",
   "execution_count": 89,
   "metadata": {},
   "outputs": [],
   "source": [
    "X_train, X_test, y_train, y_test = train_test_split(img, labels, test_size=0.3)\n",
    "labelencoder = LabelEncoder() # Make a label encoder \n",
    "y_train = labelencoder.fit_transform(y_train) # encode labels to numbers\n",
    "y_test = labelencoder.transform(y_test)\n",
    "y_train = k.utils.to_categorical(y_train) # encode nubers to catagorical labels\n",
    "y_test = k.utils.to_categorical(y_test)"
   ]
  },
  {
   "cell_type": "code",
   "execution_count": 70,
   "metadata": {},
   "outputs": [
    {
     "data": {
      "text/plain": [
       "(14000, 40, 24, 1)"
      ]
     },
     "execution_count": 70,
     "metadata": {},
     "output_type": "execute_result"
    }
   ],
   "source": [
    "X_train.shape"
   ]
  },
  {
   "cell_type": "code",
   "execution_count": 71,
   "metadata": {},
   "outputs": [
    {
     "data": {
      "text/plain": [
       "(14000, 12)"
      ]
     },
     "execution_count": 71,
     "metadata": {},
     "output_type": "execute_result"
    }
   ],
   "source": [
    "y_train.shape"
   ]
  },
  {
   "cell_type": "code",
   "execution_count": 80,
   "metadata": {},
   "outputs": [],
   "source": [
    "# TODO: Upsample anomalies that don't happen often\n",
    "counts = {}\n",
    "for i in y_train:\n",
    "    try:\n",
    "        counts[str(i)] += 1\n",
    "    except:\n",
    "        counts[str(i)] = 0"
   ]
  },
  {
   "cell_type": "code",
   "execution_count": 81,
   "metadata": {},
   "outputs": [
    {
     "data": {
      "text/plain": [
       "{'[0. 0. 0. 0. 0. 0. 0. 1. 0. 0. 0. 0.]': 7016,\n",
       " '[1. 0. 0. 0. 0. 0. 0. 0. 0. 0. 0. 0.]': 1316,\n",
       " '[0. 0. 0. 1. 0. 0. 0. 0. 0. 0. 0. 0.]': 1051,\n",
       " '[0. 0. 0. 0. 0. 0. 0. 0. 0. 1. 0. 0.]': 739,\n",
       " '[0. 0. 0. 0. 1. 0. 0. 0. 0. 0. 0. 0.]': 495,\n",
       " '[0. 0. 0. 0. 0. 0. 0. 0. 0. 0. 0. 1.]': 1150,\n",
       " '[0. 0. 0. 0. 0. 0. 0. 0. 1. 0. 0. 0.]': 2319,\n",
       " '[0. 1. 0. 0. 0. 0. 0. 0. 0. 0. 0. 0.]': 878,\n",
       " '[0. 0. 1. 0. 0. 0. 0. 0. 0. 0. 0. 0.]': 2599,\n",
       " '[0. 0. 0. 0. 0. 1. 0. 0. 0. 0. 0. 0.]': 663,\n",
       " '[0. 0. 0. 0. 0. 0. 1. 0. 0. 0. 0. 0.]': 747,\n",
       " '[0. 0. 0. 0. 0. 0. 0. 0. 0. 0. 1. 0.]': 547}"
      ]
     },
     "execution_count": 81,
     "metadata": {},
     "output_type": "execute_result"
    }
   ],
   "source": [
    "counts"
   ]
  },
  {
   "cell_type": "code",
   "execution_count": 82,
   "metadata": {},
   "outputs": [],
   "source": [
    "for i in range(len(y_train)):\n",
    "    if counts[str(y_train[i])] < 1000:\n",
    "        new_X_train = np.array([np.fliplr(X_train[i]), np.flipud(X_train[i]), np.flipud(np.fliplr(X_train[i]))])\n",
    "        new_y_train = np.array([y_train[i], y_train[i], y_train[i]])\n",
    "        X_train = np.concatenate((X_train, new_X_train), axis=0)\n",
    "        y_train = np.concatenate((y_train, new_y_train), axis=0)"
   ]
  },
  {
   "cell_type": "code",
   "execution_count": 83,
   "metadata": {},
   "outputs": [
    {
     "data": {
      "text/plain": [
       "(31757, 40, 24, 1)"
      ]
     },
     "execution_count": 83,
     "metadata": {},
     "output_type": "execute_result"
    }
   ],
   "source": [
    "X_train.shape"
   ]
  },
  {
   "cell_type": "code",
   "execution_count": 84,
   "metadata": {},
   "outputs": [
    {
     "data": {
      "text/plain": [
       "(31757, 12)"
      ]
     },
     "execution_count": 84,
     "metadata": {},
     "output_type": "execute_result"
    }
   ],
   "source": [
    "y_train.shape"
   ]
  },
  {
   "cell_type": "code",
   "execution_count": 92,
   "metadata": {},
   "outputs": [
    {
     "name": "stdout",
     "output_type": "stream",
     "text": [
      "Model: \"sequential_21\"\n",
      "_________________________________________________________________\n",
      "Layer (type)                 Output Shape              Param #   \n",
      "=================================================================\n",
      "conv2d_19 (Conv2D)           (None, 38, 22, 10)        100       \n",
      "_________________________________________________________________\n",
      "max_pooling2d_19 (MaxPooling (None, 19, 11, 10)        0         \n",
      "_________________________________________________________________\n",
      "conv2d_20 (Conv2D)           (None, 17, 9, 10)         910       \n",
      "_________________________________________________________________\n",
      "max_pooling2d_20 (MaxPooling (None, 9, 5, 10)          0         \n",
      "_________________________________________________________________\n",
      "flatten_10 (Flatten)         (None, 450)               0         \n",
      "_________________________________________________________________\n",
      "dense_41 (Dense)             (None, 450)               202950    \n",
      "_________________________________________________________________\n",
      "activation_39 (Activation)   (None, 450)               0         \n",
      "_________________________________________________________________\n",
      "dense_42 (Dense)             (None, 12)                5412      \n",
      "_________________________________________________________________\n",
      "activation_40 (Activation)   (None, 12)                0         \n",
      "=================================================================\n",
      "Total params: 209,372\n",
      "Trainable params: 209,372\n",
      "Non-trainable params: 0\n",
      "_________________________________________________________________\n"
     ]
    }
   ],
   "source": [
    "model = k.Sequential()\n",
    "model.add(k.layers.Conv2D(filters=10, kernel_size=(3,3), strides=(1, 1), padding=\"valid\", input_shape=(40, 24, 1)))\n",
    "model.add(k.layers.MaxPooling2D(pool_size=(2, 2), strides=(2,2), padding=\"same\"))\n",
    "model.add(k.layers.Conv2D(filters=10, kernel_size=(3,3), strides=(1, 1), padding=\"valid\"))\n",
    "model.add(k.layers.MaxPooling2D(pool_size=(2, 2), strides=(2,2), padding=\"same\"))\n",
    "model.add(k.layers.Flatten())\n",
    "model.add(k.layers.Dense(450))\n",
    "model.add(k.layers.Activation('sigmoid'))\n",
    "model.add(k.layers.Dense(12))\n",
    "model.add(k.layers.Activation('softmax'))\n",
    "model.compile(optimizer='adam', loss='categorical_crossentropy', metrics=[\"accuracy\"])\n",
    "model.summary()"
   ]
  },
  {
   "cell_type": "code",
   "execution_count": 93,
   "metadata": {},
   "outputs": [
    {
     "name": "stdout",
     "output_type": "stream",
     "text": [
      "Epoch 1/20\n",
      "14000/14000 [==============================] - 6s 414us/step - loss: 1.7600 - accuracy: 0.5038\n",
      "Epoch 2/20\n",
      "14000/14000 [==============================] - 6s 402us/step - loss: 1.5585 - accuracy: 0.5348\n",
      "Epoch 3/20\n",
      "14000/14000 [==============================] - 6s 398us/step - loss: 1.3390 - accuracy: 0.5997\n",
      "Epoch 4/20\n",
      "14000/14000 [==============================] - 6s 401us/step - loss: 1.2283 - accuracy: 0.6295\n",
      "Epoch 5/20\n",
      "14000/14000 [==============================] - 6s 400us/step - loss: 1.1642 - accuracy: 0.6456\n",
      "Epoch 6/20\n",
      "14000/14000 [==============================] - 6s 399us/step - loss: 1.1072 - accuracy: 0.6606\n",
      "Epoch 7/20\n",
      "14000/14000 [==============================] - 6s 395us/step - loss: 1.0587 - accuracy: 0.6735\n",
      "Epoch 8/20\n",
      "14000/14000 [==============================] - 6s 396us/step - loss: 1.0112 - accuracy: 0.6862\n",
      "Epoch 9/20\n",
      "14000/14000 [==============================] - 6s 399us/step - loss: 0.9638 - accuracy: 0.6981\n",
      "Epoch 10/20\n",
      "14000/14000 [==============================] - 6s 394us/step - loss: 0.9250 - accuracy: 0.7107\n",
      "Epoch 11/20\n",
      "14000/14000 [==============================] - 6s 399us/step - loss: 0.8802 - accuracy: 0.7234\n",
      "Epoch 12/20\n",
      "14000/14000 [==============================] - 6s 406us/step - loss: 0.8416 - accuracy: 0.7354\n",
      "Epoch 13/20\n",
      "14000/14000 [==============================] - 6s 402us/step - loss: 0.7931 - accuracy: 0.7526\n",
      "Epoch 14/20\n",
      "14000/14000 [==============================] - 6s 398us/step - loss: 0.7546 - accuracy: 0.7659\n",
      "Epoch 15/20\n",
      "14000/14000 [==============================] - 6s 402us/step - loss: 0.7142 - accuracy: 0.7771\n",
      "Epoch 16/20\n",
      "14000/14000 [==============================] - 6s 397us/step - loss: 0.6797 - accuracy: 0.7840\n",
      "Epoch 17/20\n",
      "14000/14000 [==============================] - 6s 411us/step - loss: 0.6398 - accuracy: 0.7979\n",
      "Epoch 18/20\n",
      "14000/14000 [==============================] - 6s 406us/step - loss: 0.6039 - accuracy: 0.8096\n",
      "Epoch 19/20\n",
      "14000/14000 [==============================] - 6s 405us/step - loss: 0.5635 - accuracy: 0.8214\n",
      "Epoch 20/20\n",
      "14000/14000 [==============================] - 6s 401us/step - loss: 0.5345 - accuracy: 0.8306\n"
     ]
    },
    {
     "data": {
      "text/plain": [
       "<keras.callbacks.callbacks.History at 0x1481c7310>"
      ]
     },
     "execution_count": 93,
     "metadata": {},
     "output_type": "execute_result"
    }
   ],
   "source": [
    "model.fit(X_train, y_train, epochs=20, batch_size=20, verbose=1, shuffle=True)"
   ]
  },
  {
   "cell_type": "code",
   "execution_count": 94,
   "metadata": {},
   "outputs": [
    {
     "name": "stdout",
     "output_type": "stream",
     "text": [
      "6000/6000 [==============================] - 0s 67us/step\n",
      "Prediction loss, accuracy: (0.848209595521291, 0.7429999709129333)\n"
     ]
    }
   ],
   "source": [
    "loss, acc = model.evaluate(X_test, y_test, verbose=1)\n",
    "print(f\"Prediction loss, accuracy: {loss, acc}\")"
   ]
  },
  {
   "cell_type": "code",
   "execution_count": null,
   "metadata": {},
   "outputs": [],
   "source": []
  }
 ],
 "metadata": {
  "kernelspec": {
   "display_name": "Python 3",
   "language": "python",
   "name": "python3"
  },
  "language_info": {
   "codemirror_mode": {
    "name": "ipython",
    "version": 3
   },
   "file_extension": ".py",
   "mimetype": "text/x-python",
   "name": "python",
   "nbconvert_exporter": "python",
   "pygments_lexer": "ipython3",
   "version": "3.7.6"
  }
 },
 "nbformat": 4,
 "nbformat_minor": 2
}
